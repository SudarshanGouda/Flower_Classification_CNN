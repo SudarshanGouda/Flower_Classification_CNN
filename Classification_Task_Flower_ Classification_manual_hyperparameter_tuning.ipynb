{
 "cells": [
  {
   "cell_type": "markdown",
   "id": "4a714ae2",
   "metadata": {},
   "source": [
    "# Classification_Task_Flower_ Classification_manual_hyperparameter_tuning"
   ]
  },
  {
   "cell_type": "markdown",
   "id": "74725ad3",
   "metadata": {},
   "source": [
    "## Importing Data"
   ]
  },
  {
   "cell_type": "code",
   "execution_count": 42,
   "id": "c5de0869",
   "metadata": {},
   "outputs": [],
   "source": [
    "from tensorflow.keras.preprocessing.image import ImageDataGenerator\n",
    "import pandas as pd\n",
    "import numpy as np\n",
    "import matplotlib.pyplot as plt\n",
    "import keras_tuner"
   ]
  },
  {
   "cell_type": "code",
   "execution_count": 43,
   "id": "1acb33a4",
   "metadata": {},
   "outputs": [],
   "source": [
    "Train_dataGen = ImageDataGenerator(rescale=1)\n",
    "Test_dataGen =ImageDataGenerator(rescale=1)"
   ]
  },
  {
   "cell_type": "markdown",
   "id": "490ac6a2",
   "metadata": {},
   "source": [
    "## CNN Model"
   ]
  },
  {
   "cell_type": "code",
   "execution_count": 44,
   "id": "2ab64387",
   "metadata": {},
   "outputs": [],
   "source": [
    "from keras.layers import Conv2D, MaxPooling2D,Flatten, Dense,Dropout \n",
    "from keras.models import Sequential"
   ]
  },
  {
   "cell_type": "code",
   "execution_count": 45,
   "id": "92e0c3db",
   "metadata": {},
   "outputs": [],
   "source": [
    "def build_model(hp):\n",
    "    model =Sequential()\n",
    "    model.add(Conv2D(32,(3,3),activation='relu',input_shape=(100,100,3)))\n",
    "    model.add(MaxPooling2D((2,2)))\n",
    "\n",
    "    model.add(Conv2D(64,(3,3),activation='relu'))\n",
    "    model.add(MaxPooling2D((2,2)))\n",
    "\n",
    "    model.add(Conv2D(128,(3,3),activation='relu'))\n",
    "    model.add(MaxPooling2D((2,2)))\n",
    "\n",
    "    model.add(Flatten())\n",
    "\n",
    "    model.add(Dense(units=hp.Choice('layes size',[64,128,256,512]),activation='relu'))\n",
    "\n",
    "    model.add(Dense(5,activation='softmax')) \n",
    "    \n",
    "    model.compile(loss='categorical_crossentropy',optimizer='adam',metrics=['accuracy'])\n",
    "    \n",
    "    return model"
   ]
  },
  {
   "cell_type": "code",
   "execution_count": 46,
   "id": "453d3523",
   "metadata": {},
   "outputs": [
    {
     "name": "stdout",
     "output_type": "stream",
     "text": [
      "Found 3451 images belonging to 5 classes.\n",
      "Found 498 images belonging to 5 classes.\n"
     ]
    }
   ],
   "source": [
    "train_itt =Train_dataGen.flow_from_directory('D:\\\\DATA Science\\\\DEEP LEARNING\\\\CNN\\Flower_Classification\\\\DataSet\\\\Flower_by_Split_folder\\\\train',\n",
    "                                           batch_size=64,target_size=(100,100))\n",
    "\n",
    "test_itt = Test_dataGen.flow_from_directory('D:\\\\DATA Science\\\\DEEP LEARNING\\\\CNN\\Flower_Classification\\\\DataSet\\\\Flower_by_Split_folder\\\\test',\n",
    "                                           batch_size=64,target_size=(100,100))"
   ]
  },
  {
   "cell_type": "code",
   "execution_count": 47,
   "id": "8a6fefb4",
   "metadata": {},
   "outputs": [],
   "source": [
    "tuner = keras_tuner.RandomSearch(hypermodel=build_model,\n",
    "    objective=\"val_accuracy\",\n",
    "    max_trials=4,\n",
    "    overwrite=True,\n",
    "    directory=\"hyp_try\",\n",
    "    project_name=\"hyp_try\")"
   ]
  },
  {
   "cell_type": "code",
   "execution_count": 48,
   "id": "38ac01a5",
   "metadata": {},
   "outputs": [
    {
     "name": "stdout",
     "output_type": "stream",
     "text": [
      "Trial 4 Complete [00h 07m 03s]\n",
      "val_accuracy: 0.6164658665657043\n",
      "\n",
      "Best val_accuracy So Far: 0.6666666865348816\n",
      "Total elapsed time: 00h 30m 47s\n",
      "INFO:tensorflow:Oracle triggered exit\n"
     ]
    }
   ],
   "source": [
    "tuner.search_space_summary()\n",
    "tuner.search(train_itt,validation_data=test_itt,epochs=8)"
   ]
  },
  {
   "cell_type": "code",
   "execution_count": 50,
   "id": "3f28e8d1",
   "metadata": {},
   "outputs": [],
   "source": [
    "best_model=tuner.get_best_models()[0]"
   ]
  },
  {
   "cell_type": "code",
   "execution_count": 52,
   "id": "7527a1b6",
   "metadata": {
    "scrolled": false
   },
   "outputs": [
    {
     "name": "stdout",
     "output_type": "stream",
     "text": [
      "Model: \"sequential\"\n",
      "_________________________________________________________________\n",
      " Layer (type)                Output Shape              Param #   \n",
      "=================================================================\n",
      " conv2d (Conv2D)             (None, 98, 98, 32)        896       \n",
      "                                                                 \n",
      " max_pooling2d (MaxPooling2D  (None, 49, 49, 32)       0         \n",
      " )                                                               \n",
      "                                                                 \n",
      " conv2d_1 (Conv2D)           (None, 47, 47, 64)        18496     \n",
      "                                                                 \n",
      " max_pooling2d_1 (MaxPooling  (None, 23, 23, 64)       0         \n",
      " 2D)                                                             \n",
      "                                                                 \n",
      " conv2d_2 (Conv2D)           (None, 21, 21, 128)       73856     \n",
      "                                                                 \n",
      " max_pooling2d_2 (MaxPooling  (None, 10, 10, 128)      0         \n",
      " 2D)                                                             \n",
      "                                                                 \n",
      " flatten (Flatten)           (None, 12800)             0         \n",
      "                                                                 \n",
      " dense (Dense)               (None, 256)               3277056   \n",
      "                                                                 \n",
      " dense_1 (Dense)             (None, 5)                 1285      \n",
      "                                                                 \n",
      "=================================================================\n",
      "Total params: 3,371,589\n",
      "Trainable params: 3,371,589\n",
      "Non-trainable params: 0\n",
      "_________________________________________________________________\n"
     ]
    }
   ],
   "source": [
    "best_model.summary()"
   ]
  },
  {
   "cell_type": "code",
   "execution_count": 53,
   "id": "65c6c9e5",
   "metadata": {},
   "outputs": [
    {
     "name": "stdout",
     "output_type": "stream",
     "text": [
      "8/8 [==============================] - 4s 420ms/step - loss: 1.2303 - accuracy: 0.6667\n"
     ]
    },
    {
     "data": {
      "text/plain": [
       "[1.230284571647644, 0.6666666865348816]"
      ]
     },
     "execution_count": 53,
     "metadata": {},
     "output_type": "execute_result"
    }
   ],
   "source": [
    "best_model.evaluate(test_itt)"
   ]
  },
  {
   "cell_type": "code",
   "execution_count": null,
   "id": "9dbe972f",
   "metadata": {
    "scrolled": true
   },
   "outputs": [],
   "source": [
    "class_label= test_itt.class_indices\n",
    "class_label"
   ]
  },
  {
   "cell_type": "code",
   "execution_count": null,
   "id": "ce81ae4d",
   "metadata": {},
   "outputs": [],
   "source": []
  }
 ],
 "metadata": {
  "kernelspec": {
   "display_name": "Python 3 (ipykernel)",
   "language": "python",
   "name": "python3"
  },
  "language_info": {
   "codemirror_mode": {
    "name": "ipython",
    "version": 3
   },
   "file_extension": ".py",
   "mimetype": "text/x-python",
   "name": "python",
   "nbconvert_exporter": "python",
   "pygments_lexer": "ipython3",
   "version": "3.9.7"
  }
 },
 "nbformat": 4,
 "nbformat_minor": 5
}
