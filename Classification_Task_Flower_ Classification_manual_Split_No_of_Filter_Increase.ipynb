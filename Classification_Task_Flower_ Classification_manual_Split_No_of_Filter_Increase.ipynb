{
 "cells": [
  {
   "cell_type": "markdown",
   "id": "4a714ae2",
   "metadata": {},
   "source": [
    "# Classification_Task_Flower_ Classification_manual_Split_No_of_Filter_Increase"
   ]
  },
  {
   "cell_type": "markdown",
   "id": "74725ad3",
   "metadata": {},
   "source": [
    "## Importing Data"
   ]
  },
  {
   "cell_type": "code",
   "execution_count": 1,
   "id": "c5de0869",
   "metadata": {},
   "outputs": [],
   "source": [
    "from tensorflow.keras.preprocessing.image import ImageDataGenerator\n",
    "import pandas as pd\n",
    "import numpy as np\n",
    "import matplotlib.pyplot as plt"
   ]
  },
  {
   "cell_type": "code",
   "execution_count": 2,
   "id": "1acb33a4",
   "metadata": {},
   "outputs": [],
   "source": [
    "Train_dataGen = ImageDataGenerator(rescale=1)\n",
    "Test_dataGen =ImageDataGenerator(rescale=1)"
   ]
  },
  {
   "cell_type": "markdown",
   "id": "490ac6a2",
   "metadata": {},
   "source": [
    "## CNN Model"
   ]
  },
  {
   "cell_type": "code",
   "execution_count": 3,
   "id": "2ab64387",
   "metadata": {},
   "outputs": [],
   "source": [
    "from keras.layers import Conv2D, MaxPooling2D,Flatten, Dense,Dropout \n",
    "from keras.models import Sequential"
   ]
  },
  {
   "cell_type": "code",
   "execution_count": 4,
   "id": "8a849e24",
   "metadata": {},
   "outputs": [],
   "source": [
    "model=Sequential()"
   ]
  },
  {
   "cell_type": "code",
   "execution_count": 5,
   "id": "0ab7d7db",
   "metadata": {},
   "outputs": [],
   "source": [
    "model.add(Conv2D(64,(3,3),activation='relu',input_shape=(100,100,3)))\n",
    "model.add(MaxPooling2D((2,2)))\n",
    "\n",
    "model.add(Conv2D(128,(3,3),activation='relu'))\n",
    "model.add(MaxPooling2D((2,2)))\n",
    "\n",
    "model.add(Conv2D(256,(3,3),activation='relu'))\n",
    "model.add(MaxPooling2D((2,2)))\n",
    "\n",
    "model.add(Flatten())\n",
    "\n",
    "model.add(Dense(512,activation='relu'))\n",
    "\n",
    "model.add(Dense(5,activation='softmax'))"
   ]
  },
  {
   "cell_type": "code",
   "execution_count": 6,
   "id": "453d3523",
   "metadata": {},
   "outputs": [
    {
     "name": "stdout",
     "output_type": "stream",
     "text": [
      "Found 3451 images belonging to 5 classes.\n",
      "Found 498 images belonging to 5 classes.\n"
     ]
    }
   ],
   "source": [
    "train_itt =Train_dataGen.flow_from_directory('D:\\\\DATA Science\\\\DEEP LEARNING\\\\CNN\\Flower_Classification\\\\DataSet\\\\Flower_by_Split_folder\\\\train',\n",
    "                                           batch_size=64,target_size=(100,100))\n",
    "\n",
    "test_itt = Test_dataGen.flow_from_directory('D:\\\\DATA Science\\\\DEEP LEARNING\\\\CNN\\Flower_Classification\\\\DataSet\\\\Flower_by_Split_folder\\\\test',\n",
    "                                           batch_size=64,target_size=(100,100))"
   ]
  },
  {
   "cell_type": "code",
   "execution_count": 7,
   "id": "8a6fefb4",
   "metadata": {},
   "outputs": [],
   "source": [
    "model.compile(loss='categorical_crossentropy',optimizer='adam',metrics=['accuracy'])"
   ]
  },
  {
   "cell_type": "code",
   "execution_count": 10,
   "id": "48f043ae",
   "metadata": {},
   "outputs": [
    {
     "name": "stdout",
     "output_type": "stream",
     "text": [
      "Epoch 1/8\n",
      "54/54 [==============================] - 359s 7s/step - loss: 32.3132 - accuracy: 0.2512 - val_loss: 1.5223 - val_accuracy: 0.3333\n",
      "Epoch 2/8\n",
      "54/54 [==============================] - 350s 6s/step - loss: 1.4404 - accuracy: 0.3724 - val_loss: 1.4043 - val_accuracy: 0.3996\n",
      "Epoch 3/8\n",
      "54/54 [==============================] - 350s 6s/step - loss: 1.3037 - accuracy: 0.4425 - val_loss: 1.3401 - val_accuracy: 0.4237\n",
      "Epoch 4/8\n",
      "54/54 [==============================] - 246s 5s/step - loss: 1.2608 - accuracy: 0.5059 - val_loss: 1.6334 - val_accuracy: 0.3434\n",
      "Epoch 5/8\n",
      "54/54 [==============================] - 128s 2s/step - loss: 1.1226 - accuracy: 0.5523 - val_loss: 1.2828 - val_accuracy: 0.5000\n",
      "Epoch 6/8\n",
      "54/54 [==============================] - 128s 2s/step - loss: 0.8800 - accuracy: 0.6563 - val_loss: 1.2603 - val_accuracy: 0.5321\n",
      "Epoch 7/8\n",
      "54/54 [==============================] - 127s 2s/step - loss: 0.7460 - accuracy: 0.7224 - val_loss: 1.3872 - val_accuracy: 0.5281\n",
      "Epoch 8/8\n",
      "54/54 [==============================] - 127s 2s/step - loss: 0.5688 - accuracy: 0.8053 - val_loss: 1.5846 - val_accuracy: 0.5462\n"
     ]
    },
    {
     "data": {
      "text/plain": [
       "<keras.callbacks.History at 0x205838deb50>"
      ]
     },
     "execution_count": 10,
     "metadata": {},
     "output_type": "execute_result"
    }
   ],
   "source": [
    "model.fit(train_itt,validation_data=test_itt,epochs=8)"
   ]
  },
  {
   "cell_type": "code",
   "execution_count": 11,
   "id": "8239fdd7",
   "metadata": {},
   "outputs": [],
   "source": [
    "losses = pd.DataFrame(model.history.history)"
   ]
  },
  {
   "cell_type": "code",
   "execution_count": 12,
   "id": "cc256133",
   "metadata": {},
   "outputs": [
    {
     "data": {
      "text/plain": [
       "<AxesSubplot:>"
      ]
     },
     "execution_count": 12,
     "metadata": {},
     "output_type": "execute_result"
    },
    {
     "data": {
      "image/png": "[encoded data removed]",
      "text/plain": [
       "<Figure size 432x288 with 1 Axes>"
      ]
     },
     "metadata": {
      "needs_background": "light"
     },
     "output_type": "display_data"
    }
   ],
   "source": [
    "losses.plot()"
   ]
  },
  {
   "cell_type": "code",
   "execution_count": 13,
   "id": "746e99b7",
   "metadata": {},
   "outputs": [],
   "source": [
    "from sklearn.metrics import classification_report,confusion_matrix,roc_auc_score,accuracy_score"
   ]
  },
  {
   "cell_type": "code",
   "execution_count": 14,
   "id": "daf31b23",
   "metadata": {},
   "outputs": [
    {
     "name": "stdout",
     "output_type": "stream",
     "text": [
      "8/8 [==============================] - 6s 742ms/step - loss: 1.5846 - accuracy: 0.5462\n"
     ]
    }
   ],
   "source": [
    "predictions = model.evaluate(test_itt)"
   ]
  },
  {
   "cell_type": "code",
   "execution_count": 15,
   "id": "93343cf5",
   "metadata": {},
   "outputs": [
    {
     "data": {
      "image/png": "[encoded data removed]",
      "text/plain": [
       "<Figure size 432x288 with 1 Axes>"
      ]
     },
     "metadata": {
      "needs_background": "light"
     },
     "output_type": "display_data"
    }
   ],
   "source": [
    "plt.plot(losses['loss'])\n",
    "plt.plot(losses['val_loss'])\n",
    "plt.title('model loss')\n",
    "plt.ylabel('loss')\n",
    "plt.xlabel('no of epochs')\n",
    "plt.legend(['train','test'],loc='upper left')\n",
    "plt.show()"
   ]
  },
  {
   "cell_type": "code",
   "execution_count": 16,
   "id": "b8e49bbe",
   "metadata": {},
   "outputs": [
    {
     "data": {
      "image/png": "[encoded data removed]",
      "text/plain": [
       "<Figure size 432x288 with 1 Axes>"
      ]
     },
     "metadata": {
      "needs_background": "light"
     },
     "output_type": "display_data"
    }
   ],
   "source": [
    "plt.plot(losses['accuracy'])\n",
    "plt.plot(losses['val_accuracy'])\n",
    "plt.title('model loss')\n",
    "plt.ylabel('loss')\n",
    "plt.xlabel('no of epochs')\n",
    "plt.legend(['train','test'],loc='upper left')\n",
    "plt.show()"
   ]
  },
  {
   "cell_type": "code",
   "execution_count": 17,
   "id": "9dbe972f",
   "metadata": {
    "scrolled": true
   },
   "outputs": [
    {
     "data": {
      "text/plain": [
       "{'daisy': 0, 'dandelion': 1, 'rose': 2, 'sunflower': 3, 'tulip': 4}"
      ]
     },
     "execution_count": 17,
     "metadata": {},
     "output_type": "execute_result"
    }
   ],
   "source": [
    "class_label= test_itt.class_indices\n",
    "class_label"
   ]
  }
 ],
 "metadata": {
  "kernelspec": {
   "display_name": "Python 3 (ipykernel)",
   "language": "python",
   "name": "python3"
  },
  "language_info": {
   "codemirror_mode": {
    "name": "ipython",
    "version": 3
   },
   "file_extension": ".py",
   "mimetype": "text/x-python",
   "name": "python",
   "nbconvert_exporter": "python",
   "pygments_lexer": "ipython3",
   "version": "3.9.7"
  }
 },
 "nbformat": 4,
 "nbformat_minor": 5
}
