{
 "cells": [
  {
   "cell_type": "markdown",
   "id": "4a714ae2",
   "metadata": {},
   "source": [
    "# Classification_Task_Flower_ Classification_manual_Split_No_of_Augmention"
   ]
  },
  {
   "cell_type": "markdown",
   "id": "74725ad3",
   "metadata": {},
   "source": [
    "## Importing Data"
   ]
  },
  {
   "cell_type": "code",
   "execution_count": 1,
   "id": "c5de0869",
   "metadata": {},
   "outputs": [],
   "source": [
    "from tensorflow.keras.preprocessing.image import ImageDataGenerator\n",
    "import pandas as pd\n",
    "import numpy as np\n",
    "import matplotlib.pyplot as plt"
   ]
  },
  {
   "cell_type": "code",
   "execution_count": 2,
   "id": "1acb33a4",
   "metadata": {},
   "outputs": [],
   "source": [
    "Train_dataGen = ImageDataGenerator(rescale=1/255,rotation_range=20,horizontal_flip=True,width_shift_range=0.2,\n",
    "    height_shift_range=0.2)\n",
    "\n",
    "Test_dataGen =ImageDataGenerator(rescale=1/255,rotation_range=20,horizontal_flip=True,width_shift_range=0.2,\n",
    "    height_shift_range=0.2)"
   ]
  },
  {
   "cell_type": "markdown",
   "id": "490ac6a2",
   "metadata": {},
   "source": [
    "## CNN Model"
   ]
  },
  {
   "cell_type": "code",
   "execution_count": 3,
   "id": "2ab64387",
   "metadata": {},
   "outputs": [],
   "source": [
    "from keras.layers import Conv2D, MaxPooling2D,Flatten, Dense,Dropout \n",
    "from keras.models import Sequential"
   ]
  },
  {
   "cell_type": "code",
   "execution_count": 4,
   "id": "8a849e24",
   "metadata": {},
   "outputs": [],
   "source": [
    "model=Sequential()"
   ]
  },
  {
   "cell_type": "code",
   "execution_count": 5,
   "id": "0ab7d7db",
   "metadata": {},
   "outputs": [],
   "source": [
    "model.add(Conv2D(32,(3,3),activation='relu',input_shape=(100,100,3)))\n",
    "model.add(MaxPooling2D((2,2)))\n",
    "\n",
    "model.add(Conv2D(64,(3,3),activation='relu'))\n",
    "model.add(MaxPooling2D((2,2)))\n",
    "\n",
    "model.add(Conv2D(128,(3,3),activation='relu'))\n",
    "model.add(MaxPooling2D((2,2)))\n",
    "\n",
    "model.add(Flatten())\n",
    "\n",
    "model.add(Dense(512,activation='relu'))\n",
    "\n",
    "model.add(Dense(5,activation='softmax'))"
   ]
  },
  {
   "cell_type": "code",
   "execution_count": 6,
   "id": "453d3523",
   "metadata": {},
   "outputs": [
    {
     "name": "stdout",
     "output_type": "stream",
     "text": [
      "Found 3451 images belonging to 5 classes.\n",
      "Found 498 images belonging to 5 classes.\n"
     ]
    }
   ],
   "source": [
    "train_itt =Train_dataGen.flow_from_directory('D:\\\\DATA Science\\\\DEEP LEARNING\\\\CNN\\Flower_Classification\\\\DataSet\\\\Flower_by_Split_folder\\\\train',\n",
    "                                           batch_size=64,target_size=(100,100))\n",
    "\n",
    "test_itt = Test_dataGen.flow_from_directory('D:\\\\DATA Science\\\\DEEP LEARNING\\\\CNN\\Flower_Classification\\\\DataSet\\\\Flower_by_Split_folder\\\\test',\n",
    "                                           batch_size=64,target_size=(100,100))"
   ]
  },
  {
   "cell_type": "code",
   "execution_count": 7,
   "id": "8a6fefb4",
   "metadata": {},
   "outputs": [],
   "source": [
    "model.compile(loss='categorical_crossentropy',optimizer='adam',metrics=['accuracy'])"
   ]
  },
  {
   "cell_type": "code",
   "execution_count": 8,
   "id": "48f043ae",
   "metadata": {},
   "outputs": [
    {
     "name": "stdout",
     "output_type": "stream",
     "text": [
      "Epoch 1/8\n",
      "54/54 [==============================] - 81s 1s/step - loss: 1.3956 - accuracy: 0.3976 - val_loss: 1.1541 - val_accuracy: 0.5221\n",
      "Epoch 2/8\n",
      "54/54 [==============================] - 105s 2s/step - loss: 1.1096 - accuracy: 0.5607 - val_loss: 1.0002 - val_accuracy: 0.6064\n",
      "Epoch 3/8\n",
      "54/54 [==============================] - 108s 2s/step - loss: 1.0208 - accuracy: 0.6048 - val_loss: 0.9931 - val_accuracy: 0.6265\n",
      "Epoch 4/8\n",
      "54/54 [==============================] - 169s 3s/step - loss: 0.9457 - accuracy: 0.6381 - val_loss: 0.9452 - val_accuracy: 0.6526\n",
      "Epoch 5/8\n",
      "54/54 [==============================] - 152s 3s/step - loss: 0.8954 - accuracy: 0.6543 - val_loss: 0.8364 - val_accuracy: 0.6847\n",
      "Epoch 6/8\n",
      "54/54 [==============================] - 167s 3s/step - loss: 0.8736 - accuracy: 0.6607 - val_loss: 0.9186 - val_accuracy: 0.6566\n",
      "Epoch 7/8\n",
      "54/54 [==============================] - 166s 3s/step - loss: 0.8189 - accuracy: 0.6879 - val_loss: 0.8053 - val_accuracy: 0.6968\n",
      "Epoch 8/8\n",
      "54/54 [==============================] - 79s 1s/step - loss: 0.7952 - accuracy: 0.6914 - val_loss: 0.7870 - val_accuracy: 0.7309\n"
     ]
    },
    {
     "data": {
      "text/plain": [
       "<keras.callbacks.History at 0x153725ca070>"
      ]
     },
     "execution_count": 8,
     "metadata": {},
     "output_type": "execute_result"
    }
   ],
   "source": [
    "model.fit(train_itt,validation_data=test_itt,epochs=8)"
   ]
  },
  {
   "cell_type": "code",
   "execution_count": 9,
   "id": "8239fdd7",
   "metadata": {},
   "outputs": [],
   "source": [
    "losses = pd.DataFrame(model.history.history)"
   ]
  },
  {
   "cell_type": "code",
   "execution_count": 10,
   "id": "cc256133",
   "metadata": {},
   "outputs": [
    {
     "data": {
      "text/plain": [
       "<AxesSubplot:>"
      ]
     },
     "execution_count": 10,
     "metadata": {},
     "output_type": "execute_result"
    },
    {
     "data": {
      "image/png": "[encoded data removed]",
      "text/plain": [
       "<Figure size 432x288 with 1 Axes>"
      ]
     },
     "metadata": {
      "needs_background": "light"
     },
     "output_type": "display_data"
    }
   ],
   "source": [
    "losses.plot()"
   ]
  },
  {
   "cell_type": "code",
   "execution_count": 11,
   "id": "746e99b7",
   "metadata": {},
   "outputs": [],
   "source": [
    "from sklearn.metrics import classification_report,confusion_matrix,roc_auc_score,accuracy_score"
   ]
  },
  {
   "cell_type": "code",
   "execution_count": 12,
   "id": "daf31b23",
   "metadata": {},
   "outputs": [
    {
     "name": "stdout",
     "output_type": "stream",
     "text": [
      "8/8 [==============================] - 6s 753ms/step - loss: 0.8114 - accuracy: 0.7289\n"
     ]
    }
   ],
   "source": [
    "predictions = model.evaluate(test_itt)"
   ]
  },
  {
   "cell_type": "code",
   "execution_count": 13,
   "id": "93343cf5",
   "metadata": {},
   "outputs": [
    {
     "data": {
      "image/png": "[encoded data removed]",
      "text/plain": [
       "<Figure size 432x288 with 1 Axes>"
      ]
     },
     "metadata": {
      "needs_background": "light"
     },
     "output_type": "display_data"
    }
   ],
   "source": [
    "plt.plot(losses['loss'])\n",
    "plt.plot(losses['val_loss'])\n",
    "plt.title('model loss')\n",
    "plt.ylabel('loss')\n",
    "plt.xlabel('no of epochs')\n",
    "plt.legend(['train','test'],loc='upper left')\n",
    "plt.show()"
   ]
  },
  {
   "cell_type": "code",
   "execution_count": 14,
   "id": "b8e49bbe",
   "metadata": {},
   "outputs": [
    {
     "data": {
      "image/png": "[encoded data removed]",
      "text/plain": [
       "<Figure size 432x288 with 1 Axes>"
      ]
     },
     "metadata": {
      "needs_background": "light"
     },
     "output_type": "display_data"
    }
   ],
   "source": [
    "plt.plot(losses['accuracy'])\n",
    "plt.plot(losses['val_accuracy'])\n",
    "plt.title('model loss')\n",
    "plt.ylabel('loss')\n",
    "plt.xlabel('no of epochs')\n",
    "plt.legend(['train','test'],loc='upper left')\n",
    "plt.show()"
   ]
  },
  {
   "cell_type": "code",
   "execution_count": 15,
   "id": "9dbe972f",
   "metadata": {
    "scrolled": true
   },
   "outputs": [
    {
     "data": {
      "text/plain": [
       "{'daisy': 0, 'dandelion': 1, 'rose': 2, 'sunflower': 3, 'tulip': 4}"
      ]
     },
     "execution_count": 15,
     "metadata": {},
     "output_type": "execute_result"
    }
   ],
   "source": [
    "class_label= test_itt.class_indices\n",
    "class_label"
   ]
  },
  {
   "cell_type": "code",
   "execution_count": 16,
   "id": "9ca48b2f",
   "metadata": {},
   "outputs": [],
   "source": [
    "model.save('flower_baseline_model.h5')"
   ]
  }
 ],
 "metadata": {
  "kernelspec": {
   "display_name": "Python 3 (ipykernel)",
   "language": "python",
   "name": "python3"
  },
  "language_info": {
   "codemirror_mode": {
    "name": "ipython",
    "version": 3
   },
   "file_extension": ".py",
   "mimetype": "text/x-python",
   "name": "python",
   "nbconvert_exporter": "python",
   "pygments_lexer": "ipython3",
   "version": "3.9.7"
  }
 },
 "nbformat": 4,
 "nbformat_minor": 5
}
