{
 "cells": [
  {
   "cell_type": "markdown",
   "id": "4a714ae2",
   "metadata": {},
   "source": [
    "# Classification_Task_Flower_ Classification_manual_Split_DropOut"
   ]
  },
  {
   "cell_type": "markdown",
   "id": "74725ad3",
   "metadata": {},
   "source": [
    "## Importing Data"
   ]
  },
  {
   "cell_type": "code",
   "execution_count": 10,
   "id": "c5de0869",
   "metadata": {},
   "outputs": [],
   "source": [
    "from tensorflow.keras.preprocessing.image import ImageDataGenerator\n",
    "import pandas as pd\n",
    "import numpy as np\n",
    "import matplotlib.pyplot as plt"
   ]
  },
  {
   "cell_type": "code",
   "execution_count": 11,
   "id": "1acb33a4",
   "metadata": {},
   "outputs": [],
   "source": [
    "Train_dataGen = ImageDataGenerator(rescale=1)\n",
    "Test_dataGen =ImageDataGenerator(rescale=1)"
   ]
  },
  {
   "cell_type": "markdown",
   "id": "490ac6a2",
   "metadata": {},
   "source": [
    "## CNN Model"
   ]
  },
  {
   "cell_type": "code",
   "execution_count": 12,
   "id": "2ab64387",
   "metadata": {},
   "outputs": [],
   "source": [
    "from keras.layers import Conv2D, MaxPooling2D,Flatten, Dense,Dropout \n",
    "from keras.models import Sequential"
   ]
  },
  {
   "cell_type": "code",
   "execution_count": 13,
   "id": "8a849e24",
   "metadata": {},
   "outputs": [],
   "source": [
    "model=Sequential()"
   ]
  },
  {
   "cell_type": "code",
   "execution_count": 14,
   "id": "0ab7d7db",
   "metadata": {},
   "outputs": [],
   "source": [
    "model.add(Conv2D(32,(3,3),activation='relu',input_shape=(100,100,3)))\n",
    "model.add(MaxPooling2D((2,2)))\n",
    "model.add(Dropout(0.2))\n",
    "\n",
    "model.add(Conv2D(64,(3,3),activation='relu'))\n",
    "model.add(MaxPooling2D((2,2)))\n",
    "model.add(Dropout(0.2))\n",
    "\n",
    "model.add(Conv2D(128,(3,3),activation='relu'))\n",
    "model.add(MaxPooling2D((2,2)))\n",
    "model.add(Dropout(0.2))\n",
    "\n",
    "model.add(Flatten())\n",
    "\n",
    "model.add(Dense(512,activation='relu'))\n",
    "model.add(Dropout(0.3))\n",
    "\n",
    "model.add(Dense(5,activation='softmax'))"
   ]
  },
  {
   "cell_type": "code",
   "execution_count": 15,
   "id": "453d3523",
   "metadata": {},
   "outputs": [
    {
     "name": "stdout",
     "output_type": "stream",
     "text": [
      "Found 3451 images belonging to 5 classes.\n",
      "Found 498 images belonging to 5 classes.\n"
     ]
    }
   ],
   "source": [
    "train_itt =Train_dataGen.flow_from_directory('D:\\\\DATA Science\\\\DEEP LEARNING\\\\CNN\\Flower_Classification\\\\DataSet\\\\Flower_by_Split_folder\\\\train',\n",
    "                                           batch_size=64,target_size=(100,100))\n",
    "\n",
    "test_itt = Test_dataGen.flow_from_directory('D:\\\\DATA Science\\\\DEEP LEARNING\\\\CNN\\Flower_Classification\\\\DataSet\\\\Flower_by_Split_folder\\\\test',\n",
    "                                           batch_size=64,target_size=(100,100))"
   ]
  },
  {
   "cell_type": "code",
   "execution_count": 16,
   "id": "8a6fefb4",
   "metadata": {},
   "outputs": [],
   "source": [
    "model.compile(loss='categorical_crossentropy',optimizer='adam',metrics=['accuracy'])"
   ]
  },
  {
   "cell_type": "code",
   "execution_count": 17,
   "id": "48f043ae",
   "metadata": {},
   "outputs": [
    {
     "name": "stdout",
     "output_type": "stream",
     "text": [
      "Epoch 1/8\n",
      "54/54 [==============================] - 96s 2s/step - loss: 53.5533 - accuracy: 0.2092 - val_loss: 1.6000 - val_accuracy: 0.2369\n",
      "Epoch 2/8\n",
      "54/54 [==============================] - 195s 4s/step - loss: 1.5925 - accuracy: 0.2394 - val_loss: 1.5974 - val_accuracy: 0.2209\n",
      "Epoch 3/8\n",
      "54/54 [==============================] - 172s 3s/step - loss: 1.5790 - accuracy: 0.2533 - val_loss: 1.5846 - val_accuracy: 0.2410\n",
      "Epoch 4/8\n",
      "54/54 [==============================] - 163s 3s/step - loss: 1.5620 - accuracy: 0.2593 - val_loss: 1.5965 - val_accuracy: 0.2269\n",
      "Epoch 5/8\n",
      "54/54 [==============================] - 177s 3s/step - loss: 1.5386 - accuracy: 0.2796 - val_loss: 1.6062 - val_accuracy: 0.2430\n",
      "Epoch 6/8\n",
      "54/54 [==============================] - 166s 3s/step - loss: 1.5319 - accuracy: 0.2727 - val_loss: 1.6004 - val_accuracy: 0.2430\n",
      "Epoch 7/8\n",
      "54/54 [==============================] - 172s 3s/step - loss: 1.5316 - accuracy: 0.2735 - val_loss: 1.6100 - val_accuracy: 0.2430\n",
      "Epoch 8/8\n",
      "54/54 [==============================] - 176s 3s/step - loss: 1.5291 - accuracy: 0.2721 - val_loss: 1.6145 - val_accuracy: 0.2490\n"
     ]
    },
    {
     "data": {
      "text/plain": [
       "<keras.callbacks.History at 0x1c9b5fd2c70>"
      ]
     },
     "execution_count": 17,
     "metadata": {},
     "output_type": "execute_result"
    }
   ],
   "source": [
    "model.fit(train_itt,validation_data=test_itt,epochs=8)"
   ]
  },
  {
   "cell_type": "code",
   "execution_count": 18,
   "id": "8239fdd7",
   "metadata": {},
   "outputs": [],
   "source": [
    "losses = pd.DataFrame(model.history.history)"
   ]
  },
  {
   "cell_type": "code",
   "execution_count": 19,
   "id": "cc256133",
   "metadata": {},
   "outputs": [
    {
     "data": {
      "text/plain": [
       "<AxesSubplot:>"
      ]
     },
     "execution_count": 19,
     "metadata": {},
     "output_type": "execute_result"
    },
    {
     "data": {
      "image/png": "[encoded data removed]",
      "text/plain": [
       "<Figure size 432x288 with 1 Axes>"
      ]
     },
     "metadata": {
      "needs_background": "light"
     },
     "output_type": "display_data"
    }
   ],
   "source": [
    "losses.plot()"
   ]
  },
  {
   "cell_type": "code",
   "execution_count": 20,
   "id": "746e99b7",
   "metadata": {},
   "outputs": [],
   "source": [
    "from sklearn.metrics import classification_report,confusion_matrix,roc_auc_score,accuracy_score"
   ]
  },
  {
   "cell_type": "code",
   "execution_count": 21,
   "id": "daf31b23",
   "metadata": {},
   "outputs": [
    {
     "name": "stdout",
     "output_type": "stream",
     "text": [
      "8/8 [==============================] - 9s 924ms/step - loss: 1.6145 - accuracy: 0.2490\n"
     ]
    }
   ],
   "source": [
    "predictions = model.evaluate(test_itt)"
   ]
  },
  {
   "cell_type": "code",
   "execution_count": 22,
   "id": "93343cf5",
   "metadata": {},
   "outputs": [
    {
     "data": {
      "image/png": "[encoded data removed]",
      "text/plain": [
       "<Figure size 432x288 with 1 Axes>"
      ]
     },
     "metadata": {
      "needs_background": "light"
     },
     "output_type": "display_data"
    }
   ],
   "source": [
    "plt.plot(losses['loss'])\n",
    "plt.plot(losses['val_loss'])\n",
    "plt.title('model loss')\n",
    "plt.ylabel('loss')\n",
    "plt.xlabel('no of epochs')\n",
    "plt.legend(['train','test'],loc='upper left')\n",
    "plt.show()"
   ]
  },
  {
   "cell_type": "code",
   "execution_count": 23,
   "id": "b8e49bbe",
   "metadata": {},
   "outputs": [
    {
     "data": {
      "image/png": "[encoded data removed]",
      "text/plain": [
       "<Figure size 432x288 with 1 Axes>"
      ]
     },
     "metadata": {
      "needs_background": "light"
     },
     "output_type": "display_data"
    }
   ],
   "source": [
    "plt.plot(losses['accuracy'])\n",
    "plt.plot(losses['val_accuracy'])\n",
    "plt.title('model loss')\n",
    "plt.ylabel('loss')\n",
    "plt.xlabel('no of epochs')\n",
    "plt.legend(['train','test'],loc='upper left')\n",
    "plt.show()"
   ]
  },
  {
   "cell_type": "code",
   "execution_count": 24,
   "id": "9dbe972f",
   "metadata": {
    "scrolled": true
   },
   "outputs": [
    {
     "data": {
      "text/plain": [
       "{'daisy': 0, 'dandelion': 1, 'rose': 2, 'sunflower': 3, 'tulip': 4}"
      ]
     },
     "execution_count": 24,
     "metadata": {},
     "output_type": "execute_result"
    }
   ],
   "source": [
    "class_label= test_itt.class_indices\n",
    "class_label"
   ]
  }
 ],
 "metadata": {
  "kernelspec": {
   "display_name": "Python 3 (ipykernel)",
   "language": "python",
   "name": "python3"
  },
  "language_info": {
   "codemirror_mode": {
    "name": "ipython",
    "version": 3
   },
   "file_extension": ".py",
   "mimetype": "text/x-python",
   "name": "python",
   "nbconvert_exporter": "python",
   "pygments_lexer": "ipython3",
   "version": "3.9.7"
  }
 },
 "nbformat": 4,
 "nbformat_minor": 5
}
